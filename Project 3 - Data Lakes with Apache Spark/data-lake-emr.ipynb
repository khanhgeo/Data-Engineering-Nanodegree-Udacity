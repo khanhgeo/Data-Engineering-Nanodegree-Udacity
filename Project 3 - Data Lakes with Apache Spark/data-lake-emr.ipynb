{
 "cells": [
  {
   "cell_type": "code",
   "execution_count": 1,
   "metadata": {
    "editable": true,
    "execution": {
     "iopub.execute_input": "2022-05-01T05:27:38.617201Z",
     "iopub.status.busy": "2022-05-01T05:27:38.616954Z",
     "iopub.status.idle": "2022-05-01T05:28:14.144009Z",
     "shell.execute_reply": "2022-05-01T05:28:14.142659Z",
     "shell.execute_reply.started": "2022-05-01T05:27:38.617174Z"
    },
    "tags": []
   },
   "outputs": [
    {
     "data": {
      "application/vnd.jupyter.widget-view+json": {
       "model_id": "a2f7bb34da3c46409b4f0e695e66b93b",
       "version_major": 2,
       "version_minor": 0
      },
      "text/plain": [
       "VBox()"
      ]
     },
     "metadata": {},
     "output_type": "display_data"
    },
    {
     "name": "stdout",
     "output_type": "stream",
     "text": [
      "Starting Spark application\n"
     ]
    },
    {
     "data": {
      "text/html": [
       "<table>\n",
       "<tr><th>ID</th><th>YARN Application ID</th><th>Kind</th><th>State</th><th>Spark UI</th><th>Driver log</th><th>Current session?</th></tr><tr><td>2</td><td>application_1651378618735_0003</td><td>pyspark</td><td>idle</td><td><a target=\"_blank\" href=\"http://ip-172-31-19-242.us-west-2.compute.internal:20888/proxy/application_1651378618735_0003/\">Link</a></td><td><a target=\"_blank\" href=\"http://ip-172-31-17-143.us-west-2.compute.internal:8042/node/containerlogs/container_1651378618735_0003_01_000001/livy\">Link</a></td><td>✔</td></tr></table>"
      ],
      "text/plain": [
       "<IPython.core.display.HTML object>"
      ]
     },
     "metadata": {},
     "output_type": "display_data"
    },
    {
     "data": {
      "application/vnd.jupyter.widget-view+json": {
       "model_id": "",
       "version_major": 2,
       "version_minor": 0
      },
      "text/plain": [
       "FloatProgress(value=0.0, bar_style='info', description='Progress:', layout=Layout(height='25px', width='50%'),…"
      ]
     },
     "metadata": {},
     "output_type": "display_data"
    },
    {
     "name": "stdout",
     "output_type": "stream",
     "text": [
      "SparkSession available as 'spark'.\n"
     ]
    },
    {
     "data": {
      "application/vnd.jupyter.widget-view+json": {
       "model_id": "",
       "version_major": 2,
       "version_minor": 0
      },
      "text/plain": [
       "FloatProgress(value=0.0, bar_style='info', description='Progress:', layout=Layout(height='25px', width='50%'),…"
      ]
     },
     "metadata": {},
     "output_type": "display_data"
    }
   ],
   "source": [
    "import configparser\n",
    "from datetime import datetime\n",
    "import os\n",
    "from pyspark.sql.functions import udf, col, monotonically_increasing_id\n",
    "from pyspark.sql.functions import year, month, dayofmonth, dayofweek, hour, weekofyear, date_format\n",
    "from pyspark.sql.types import DoubleType, IntegerType, LongType, StringType, StructType, StructField, TimestampType"
   ]
  },
  {
   "cell_type": "code",
   "execution_count": 2,
   "metadata": {
    "editable": true,
    "execution": {
     "iopub.execute_input": "2022-05-01T05:29:41.454562Z",
     "iopub.status.busy": "2022-05-01T05:29:41.454235Z",
     "iopub.status.idle": "2022-05-01T05:29:41.682679Z",
     "shell.execute_reply": "2022-05-01T05:29:41.681384Z",
     "shell.execute_reply.started": "2022-05-01T05:29:41.454530Z"
    }
   },
   "outputs": [
    {
     "data": {
      "application/vnd.jupyter.widget-view+json": {
       "model_id": "c0f0fd71f2f440e280626a31f55c9622",
       "version_major": 2,
       "version_minor": 0
      },
      "text/plain": [
       "VBox()"
      ]
     },
     "metadata": {},
     "output_type": "display_data"
    },
    {
     "data": {
      "application/vnd.jupyter.widget-view+json": {
       "model_id": "",
       "version_major": 2,
       "version_minor": 0
      },
      "text/plain": [
       "FloatProgress(value=0.0, bar_style='info', description='Progress:', layout=Layout(height='25px', width='50%'),…"
      ]
     },
     "metadata": {},
     "output_type": "display_data"
    }
   ],
   "source": [
    "input_data = \"s3a://sparkify-bucket4emr/raw/\"\n",
    "output_data = \"s3a://sparkify-bucket4emr/processed/\""
   ]
  },
  {
   "cell_type": "code",
   "execution_count": 3,
   "metadata": {
    "editable": true,
    "execution": {
     "iopub.execute_input": "2022-05-01T05:29:54.552127Z",
     "iopub.status.busy": "2022-05-01T05:29:54.551824Z",
     "iopub.status.idle": "2022-05-01T05:29:54.757761Z",
     "shell.execute_reply": "2022-05-01T05:29:54.756790Z",
     "shell.execute_reply.started": "2022-05-01T05:29:54.552097Z"
    }
   },
   "outputs": [
    {
     "data": {
      "application/vnd.jupyter.widget-view+json": {
       "model_id": "2a0dac0eb40b48a0b66d6f966a05153d",
       "version_major": 2,
       "version_minor": 0
      },
      "text/plain": [
       "VBox()"
      ]
     },
     "metadata": {},
     "output_type": "display_data"
    },
    {
     "data": {
      "application/vnd.jupyter.widget-view+json": {
       "model_id": "",
       "version_major": 2,
       "version_minor": 0
      },
      "text/plain": [
       "FloatProgress(value=0.0, bar_style='info', description='Progress:', layout=Layout(height='25px', width='50%'),…"
      ]
     },
     "metadata": {},
     "output_type": "display_data"
    },
    {
     "name": "stdout",
     "output_type": "stream",
     "text": [
      "'s3a://sparkify-bucket4emr/raw/song-data/*/*/*/*.json'"
     ]
    }
   ],
   "source": [
    "song_data = os.path.join(input_data, 'song-data', '*', '*', '*', '*.json')\n",
    "song_data"
   ]
  },
  {
   "cell_type": "code",
   "execution_count": 4,
   "metadata": {
    "editable": true,
    "execution": {
     "iopub.execute_input": "2022-05-01T05:30:01.674526Z",
     "iopub.status.busy": "2022-05-01T05:30:01.672772Z",
     "iopub.status.idle": "2022-05-01T05:30:02.680900Z",
     "shell.execute_reply": "2022-05-01T05:30:02.673842Z",
     "shell.execute_reply.started": "2022-05-01T05:30:01.674447Z"
    }
   },
   "outputs": [
    {
     "data": {
      "application/vnd.jupyter.widget-view+json": {
       "model_id": "e9ed4285ae634e7fb0654a77e16f97fe",
       "version_major": 2,
       "version_minor": 0
      },
      "text/plain": [
       "VBox()"
      ]
     },
     "metadata": {},
     "output_type": "display_data"
    },
    {
     "data": {
      "application/vnd.jupyter.widget-view+json": {
       "model_id": "",
       "version_major": 2,
       "version_minor": 0
      },
      "text/plain": [
       "FloatProgress(value=0.0, bar_style='info', description='Progress:', layout=Layout(height='25px', width='50%'),…"
      ]
     },
     "metadata": {},
     "output_type": "display_data"
    }
   ],
   "source": [
    "song_schema = StructType([\n",
    "        StructField('artist_id', StringType(), False),\n",
    "        StructField('artist_latitude', StringType(), True),\n",
    "        StructField('artist_longitude', StringType(), True),\n",
    "        StructField('artist_location', StringType(), True),\n",
    "        StructField('artist_name', StringType(), False),\n",
    "        StructField('song_id', StringType(), False),\n",
    "        StructField('title', StringType(), False),\n",
    "        StructField('duration', DoubleType(), True),\n",
    "        StructField('year', IntegerType(), True)\n",
    "    ])"
   ]
  },
  {
   "cell_type": "code",
   "execution_count": 5,
   "metadata": {
    "editable": true,
    "execution": {
     "iopub.execute_input": "2022-05-01T05:30:06.402663Z",
     "iopub.status.busy": "2022-05-01T05:30:06.402089Z",
     "iopub.status.idle": "2022-05-01T05:30:30.414222Z",
     "shell.execute_reply": "2022-05-01T05:30:30.413423Z",
     "shell.execute_reply.started": "2022-05-01T05:30:06.402629Z"
    },
    "tags": []
   },
   "outputs": [
    {
     "data": {
      "application/vnd.jupyter.widget-view+json": {
       "model_id": "9e980c39f87e47d5973d8102ae1813ec",
       "version_major": 2,
       "version_minor": 0
      },
      "text/plain": [
       "VBox()"
      ]
     },
     "metadata": {},
     "output_type": "display_data"
    },
    {
     "data": {
      "application/vnd.jupyter.widget-view+json": {
       "model_id": "",
       "version_major": 2,
       "version_minor": 0
      },
      "text/plain": [
       "FloatProgress(value=0.0, bar_style='info', description='Progress:', layout=Layout(height='25px', width='50%'),…"
      ]
     },
     "metadata": {},
     "output_type": "display_data"
    }
   ],
   "source": [
    "song_df = spark.read.json(song_data, schema = song_schema)"
   ]
  },
  {
   "cell_type": "code",
   "execution_count": 7,
   "metadata": {
    "editable": true,
    "execution": {
     "iopub.execute_input": "2022-05-01T05:30:55.648502Z",
     "iopub.status.busy": "2022-05-01T05:30:55.648251Z",
     "iopub.status.idle": "2022-05-01T05:30:59.251302Z",
     "shell.execute_reply": "2022-05-01T05:30:59.250425Z",
     "shell.execute_reply.started": "2022-05-01T05:30:55.648473Z"
    },
    "tags": []
   },
   "outputs": [
    {
     "data": {
      "application/vnd.jupyter.widget-view+json": {
       "model_id": "5c1d233086174db2953607127aec3d1e",
       "version_major": 2,
       "version_minor": 0
      },
      "text/plain": [
       "VBox()"
      ]
     },
     "metadata": {},
     "output_type": "display_data"
    },
    {
     "data": {
      "application/vnd.jupyter.widget-view+json": {
       "model_id": "",
       "version_major": 2,
       "version_minor": 0
      },
      "text/plain": [
       "FloatProgress(value=0.0, bar_style='info', description='Progress:', layout=Layout(height='25px', width='50%'),…"
      ]
     },
     "metadata": {},
     "output_type": "display_data"
    },
    {
     "name": "stdout",
     "output_type": "stream",
     "text": [
      "Row(artist_id='ARDR4AC1187FB371A1', artist_latitude=None, artist_longitude=None, artist_location='', artist_name='Montserrat Caballé;Placido Domingo;Vicente Sardinero;Judith Blegen;Sherrill Milnes;Georg Solti', song_id='SOBAYLL12A8C138AF9', title='Sono andati? Fingevo di dormire', duration=511.16363, year=0)"
     ]
    }
   ],
   "source": [
    "song_df.head()"
   ]
  },
  {
   "cell_type": "code",
   "execution_count": 8,
   "metadata": {
    "editable": true,
    "execution": {
     "iopub.execute_input": "2022-05-01T05:31:06.746088Z",
     "iopub.status.busy": "2022-05-01T05:31:06.745837Z",
     "iopub.status.idle": "2022-05-01T05:31:06.953007Z",
     "shell.execute_reply": "2022-05-01T05:31:06.951508Z",
     "shell.execute_reply.started": "2022-05-01T05:31:06.746058Z"
    }
   },
   "outputs": [
    {
     "data": {
      "application/vnd.jupyter.widget-view+json": {
       "model_id": "51426cd340404a0eb935e45fd42dde61",
       "version_major": 2,
       "version_minor": 0
      },
      "text/plain": [
       "VBox()"
      ]
     },
     "metadata": {},
     "output_type": "display_data"
    },
    {
     "data": {
      "application/vnd.jupyter.widget-view+json": {
       "model_id": "",
       "version_major": 2,
       "version_minor": 0
      },
      "text/plain": [
       "FloatProgress(value=0.0, bar_style='info', description='Progress:', layout=Layout(height='25px', width='50%'),…"
      ]
     },
     "metadata": {},
     "output_type": "display_data"
    }
   ],
   "source": [
    "log_schema = StructType([\n",
    "        StructField('artist', StringType(), False),\n",
    "        StructField('auth', StringType(), True),\n",
    "        StructField('firstName', StringType(), True),\n",
    "        StructField('gender', StringType(), True),\n",
    "        StructField('itemInSession', LongType(), True),\n",
    "        StructField('lastName', StringType(), True),\n",
    "        StructField('length', DoubleType(), True),\n",
    "        StructField('level', StringType(), True),\n",
    "        StructField('location', StringType(), True),\n",
    "        StructField('method', StringType(), True),\n",
    "        StructField('page', StringType(), False),\n",
    "        StructField('registration', DoubleType(), True),\n",
    "        StructField('sessionId', LongType(), True),\n",
    "        StructField('song', StringType(), False),\n",
    "        StructField('status', LongType(), True),\n",
    "        StructField('ts', LongType(), False),\n",
    "        StructField('userAgent', StringType(), True),\n",
    "        StructField('userId', StringType(), False),\n",
    "    ])"
   ]
  },
  {
   "cell_type": "code",
   "execution_count": 9,
   "metadata": {
    "editable": true,
    "execution": {
     "iopub.execute_input": "2022-05-01T05:31:09.572651Z",
     "iopub.status.busy": "2022-05-01T05:31:09.572055Z",
     "iopub.status.idle": "2022-05-01T05:31:09.790790Z",
     "shell.execute_reply": "2022-05-01T05:31:09.789633Z",
     "shell.execute_reply.started": "2022-05-01T05:31:09.572612Z"
    }
   },
   "outputs": [
    {
     "data": {
      "application/vnd.jupyter.widget-view+json": {
       "model_id": "bd77aa81aa754cc19f76f9a88d993f42",
       "version_major": 2,
       "version_minor": 0
      },
      "text/plain": [
       "VBox()"
      ]
     },
     "metadata": {},
     "output_type": "display_data"
    },
    {
     "data": {
      "application/vnd.jupyter.widget-view+json": {
       "model_id": "",
       "version_major": 2,
       "version_minor": 0
      },
      "text/plain": [
       "FloatProgress(value=0.0, bar_style='info', description='Progress:', layout=Layout(height='25px', width='50%'),…"
      ]
     },
     "metadata": {},
     "output_type": "display_data"
    }
   ],
   "source": [
    "log_data = os.path.join(input_data, 'log-data', '*.json')"
   ]
  },
  {
   "cell_type": "code",
   "execution_count": 10,
   "metadata": {
    "editable": true,
    "execution": {
     "iopub.execute_input": "2022-05-01T05:31:12.568829Z",
     "iopub.status.busy": "2022-05-01T05:31:12.568582Z",
     "iopub.status.idle": "2022-05-01T05:31:14.010904Z",
     "shell.execute_reply": "2022-05-01T05:31:14.009973Z",
     "shell.execute_reply.started": "2022-05-01T05:31:12.568801Z"
    }
   },
   "outputs": [
    {
     "data": {
      "application/vnd.jupyter.widget-view+json": {
       "model_id": "c56434c4c0934a65be0d6ab4c1712bda",
       "version_major": 2,
       "version_minor": 0
      },
      "text/plain": [
       "VBox()"
      ]
     },
     "metadata": {},
     "output_type": "display_data"
    },
    {
     "data": {
      "application/vnd.jupyter.widget-view+json": {
       "model_id": "",
       "version_major": 2,
       "version_minor": 0
      },
      "text/plain": [
       "FloatProgress(value=0.0, bar_style='info', description='Progress:', layout=Layout(height='25px', width='50%'),…"
      ]
     },
     "metadata": {},
     "output_type": "display_data"
    }
   ],
   "source": [
    "log_df = spark.read.json(log_data, schema = log_schema)"
   ]
  },
  {
   "cell_type": "code",
   "execution_count": 11,
   "metadata": {
    "editable": true,
    "execution": {
     "iopub.execute_input": "2022-05-01T05:31:37.737182Z",
     "iopub.status.busy": "2022-05-01T05:31:37.736933Z",
     "iopub.status.idle": "2022-05-01T05:31:38.732139Z",
     "shell.execute_reply": "2022-05-01T05:31:38.731165Z",
     "shell.execute_reply.started": "2022-05-01T05:31:37.737154Z"
    }
   },
   "outputs": [
    {
     "data": {
      "application/vnd.jupyter.widget-view+json": {
       "model_id": "129d0b8977cb46c999331099764c50aa",
       "version_major": 2,
       "version_minor": 0
      },
      "text/plain": [
       "VBox()"
      ]
     },
     "metadata": {},
     "output_type": "display_data"
    },
    {
     "data": {
      "application/vnd.jupyter.widget-view+json": {
       "model_id": "",
       "version_major": 2,
       "version_minor": 0
      },
      "text/plain": [
       "FloatProgress(value=0.0, bar_style='info', description='Progress:', layout=Layout(height='25px', width='50%'),…"
      ]
     },
     "metadata": {},
     "output_type": "display_data"
    }
   ],
   "source": [
    "log_df = log_df.where(log_df['page'] == 'NextSong')"
   ]
  },
  {
   "cell_type": "code",
   "execution_count": 12,
   "metadata": {
    "editable": true,
    "execution": {
     "iopub.execute_input": "2022-05-01T05:31:42.400935Z",
     "iopub.status.busy": "2022-05-01T05:31:42.400677Z",
     "iopub.status.idle": "2022-05-01T05:31:42.878604Z",
     "shell.execute_reply": "2022-05-01T05:31:42.877330Z",
     "shell.execute_reply.started": "2022-05-01T05:31:42.400906Z"
    }
   },
   "outputs": [
    {
     "data": {
      "application/vnd.jupyter.widget-view+json": {
       "model_id": "596b909df3d849da9faa614e7dccc4d5",
       "version_major": 2,
       "version_minor": 0
      },
      "text/plain": [
       "VBox()"
      ]
     },
     "metadata": {},
     "output_type": "display_data"
    },
    {
     "data": {
      "application/vnd.jupyter.widget-view+json": {
       "model_id": "",
       "version_major": 2,
       "version_minor": 0
      },
      "text/plain": [
       "FloatProgress(value=0.0, bar_style='info', description='Progress:', layout=Layout(height='25px', width='50%'),…"
      ]
     },
     "metadata": {},
     "output_type": "display_data"
    }
   ],
   "source": [
    "# extract columns to create songs table\n",
    "songs_table = song_df.select('song_id','title','artist_id','year','duration') \\\n",
    "                     .dropDuplicates(['song_id'])"
   ]
  },
  {
   "cell_type": "code",
   "execution_count": 13,
   "metadata": {
    "editable": true,
    "execution": {
     "iopub.execute_input": "2022-05-01T05:31:47.187274Z",
     "iopub.status.busy": "2022-05-01T05:31:47.187018Z",
     "iopub.status.idle": "2022-05-01T05:32:55.881696Z",
     "shell.execute_reply": "2022-05-01T05:32:55.880996Z",
     "shell.execute_reply.started": "2022-05-01T05:31:47.187244Z"
    }
   },
   "outputs": [
    {
     "data": {
      "application/vnd.jupyter.widget-view+json": {
       "model_id": "5f2e32726189427889fb893cd995af63",
       "version_major": 2,
       "version_minor": 0
      },
      "text/plain": [
       "VBox()"
      ]
     },
     "metadata": {},
     "output_type": "display_data"
    },
    {
     "data": {
      "application/vnd.jupyter.widget-view+json": {
       "model_id": "",
       "version_major": 2,
       "version_minor": 0
      },
      "text/plain": [
       "FloatProgress(value=0.0, bar_style='info', description='Progress:', layout=Layout(height='25px', width='50%'),…"
      ]
     },
     "metadata": {},
     "output_type": "display_data"
    }
   ],
   "source": [
    "# write songs table to parquet files partitioned by year and artist\n",
    "songs_table.write.parquet(os.path.join(output_data, 'songs'), mode = 'overwrite', partitionBy = ['year', 'artist_id'])"
   ]
  },
  {
   "cell_type": "code",
   "execution_count": 14,
   "metadata": {
    "editable": true,
    "execution": {
     "iopub.execute_input": "2022-05-01T05:33:20.383759Z",
     "iopub.status.busy": "2022-05-01T05:33:20.383445Z",
     "iopub.status.idle": "2022-05-01T05:33:20.553737Z",
     "shell.execute_reply": "2022-05-01T05:33:20.551973Z",
     "shell.execute_reply.started": "2022-05-01T05:33:20.383729Z"
    }
   },
   "outputs": [
    {
     "data": {
      "application/vnd.jupyter.widget-view+json": {
       "model_id": "b9b4233981214b51be9bf8ab12aa43dc",
       "version_major": 2,
       "version_minor": 0
      },
      "text/plain": [
       "VBox()"
      ]
     },
     "metadata": {},
     "output_type": "display_data"
    },
    {
     "data": {
      "application/vnd.jupyter.widget-view+json": {
       "model_id": "",
       "version_major": 2,
       "version_minor": 0
      },
      "text/plain": [
       "FloatProgress(value=0.0, bar_style='info', description='Progress:', layout=Layout(height='25px', width='50%'),…"
      ]
     },
     "metadata": {},
     "output_type": "display_data"
    }
   ],
   "source": [
    "# extract columns to create artists table\n",
    "artists_table = song_df.select('artist_id','artist_name','artist_location','artist_latitude','artist_longitude') \\\n",
    "                        .withColumnRenamed('artist_name','artist') \\\n",
    "                        .withColumnRenamed('artist_location','location') \\\n",
    "                        .withColumnRenamed('artist_latitude','latitude') \\\n",
    "                        .withColumnRenamed('artist_longitude','longitude') \\\n",
    "                        .dropDuplicates(['artist_id'])"
   ]
  },
  {
   "cell_type": "code",
   "execution_count": 15,
   "metadata": {
    "editable": true,
    "execution": {
     "iopub.execute_input": "2022-05-01T05:33:23.186210Z",
     "iopub.status.busy": "2022-05-01T05:33:23.185960Z",
     "iopub.status.idle": "2022-05-01T05:34:31.817194Z",
     "shell.execute_reply": "2022-05-01T05:34:31.816474Z",
     "shell.execute_reply.started": "2022-05-01T05:33:23.186184Z"
    }
   },
   "outputs": [
    {
     "data": {
      "application/vnd.jupyter.widget-view+json": {
       "model_id": "7dd3879ca5184f55a04a153fb3f68dc8",
       "version_major": 2,
       "version_minor": 0
      },
      "text/plain": [
       "VBox()"
      ]
     },
     "metadata": {},
     "output_type": "display_data"
    },
    {
     "data": {
      "application/vnd.jupyter.widget-view+json": {
       "model_id": "",
       "version_major": 2,
       "version_minor": 0
      },
      "text/plain": [
       "FloatProgress(value=0.0, bar_style='info', description='Progress:', layout=Layout(height='25px', width='50%'),…"
      ]
     },
     "metadata": {},
     "output_type": "display_data"
    }
   ],
   "source": [
    "# write artists table to parquet files\n",
    "artists_table.write.parquet(os.path.join(output_data, 'artists'), mode = 'overwrite')"
   ]
  },
  {
   "cell_type": "code",
   "execution_count": 16,
   "metadata": {
    "editable": true,
    "execution": {
     "iopub.execute_input": "2022-05-01T05:34:43.470451Z",
     "iopub.status.busy": "2022-05-01T05:34:43.470205Z",
     "iopub.status.idle": "2022-05-01T05:34:43.655142Z",
     "shell.execute_reply": "2022-05-01T05:34:43.654465Z",
     "shell.execute_reply.started": "2022-05-01T05:34:43.470422Z"
    }
   },
   "outputs": [
    {
     "data": {
      "application/vnd.jupyter.widget-view+json": {
       "model_id": "95f6fde50c7e49f085565bbca9d14d14",
       "version_major": 2,
       "version_minor": 0
      },
      "text/plain": [
       "VBox()"
      ]
     },
     "metadata": {},
     "output_type": "display_data"
    },
    {
     "data": {
      "application/vnd.jupyter.widget-view+json": {
       "model_id": "",
       "version_major": 2,
       "version_minor": 0
      },
      "text/plain": [
       "FloatProgress(value=0.0, bar_style='info', description='Progress:', layout=Layout(height='25px', width='50%'),…"
      ]
     },
     "metadata": {},
     "output_type": "display_data"
    }
   ],
   "source": [
    "# extract columns for users table    \n",
    "users_table = log_df.select('userId', 'firstName', 'lastName', 'gender', 'level') \\\n",
    "                    .withColumnRenamed('userId', 'user_id') \\\n",
    "                    .withColumnRenamed('firstName', 'first_name') \\\n",
    "                    .withColumnRenamed('lastName', 'last_name') \\\n",
    "                    .dropDuplicates(['user_id'])"
   ]
  },
  {
   "cell_type": "code",
   "execution_count": 17,
   "metadata": {
    "editable": true,
    "execution": {
     "iopub.execute_input": "2022-05-01T05:34:48.059948Z",
     "iopub.status.busy": "2022-05-01T05:34:48.059663Z",
     "iopub.status.idle": "2022-05-01T05:35:44.653787Z",
     "shell.execute_reply": "2022-05-01T05:35:44.651583Z",
     "shell.execute_reply.started": "2022-05-01T05:34:48.059917Z"
    }
   },
   "outputs": [
    {
     "data": {
      "application/vnd.jupyter.widget-view+json": {
       "model_id": "80343b630bb143b8bbcf073fe8d5a1d6",
       "version_major": 2,
       "version_minor": 0
      },
      "text/plain": [
       "VBox()"
      ]
     },
     "metadata": {},
     "output_type": "display_data"
    },
    {
     "data": {
      "application/vnd.jupyter.widget-view+json": {
       "model_id": "",
       "version_major": 2,
       "version_minor": 0
      },
      "text/plain": [
       "FloatProgress(value=0.0, bar_style='info', description='Progress:', layout=Layout(height='25px', width='50%'),…"
      ]
     },
     "metadata": {},
     "output_type": "display_data"
    }
   ],
   "source": [
    "# write users table to parquet files\n",
    "users_table.write.parquet(os.path.join(output_data, 'users'), mode = 'overwrite')"
   ]
  },
  {
   "cell_type": "code",
   "execution_count": 18,
   "metadata": {
    "editable": true,
    "execution": {
     "iopub.execute_input": "2022-05-01T05:35:58.690600Z",
     "iopub.status.busy": "2022-05-01T05:35:58.690345Z",
     "iopub.status.idle": "2022-05-01T05:35:59.121828Z",
     "shell.execute_reply": "2022-05-01T05:35:59.120881Z",
     "shell.execute_reply.started": "2022-05-01T05:35:58.690570Z"
    }
   },
   "outputs": [
    {
     "data": {
      "application/vnd.jupyter.widget-view+json": {
       "model_id": "3ffeb476adef47a589de61a0339b4c83",
       "version_major": 2,
       "version_minor": 0
      },
      "text/plain": [
       "VBox()"
      ]
     },
     "metadata": {},
     "output_type": "display_data"
    },
    {
     "data": {
      "application/vnd.jupyter.widget-view+json": {
       "model_id": "",
       "version_major": 2,
       "version_minor": 0
      },
      "text/plain": [
       "FloatProgress(value=0.0, bar_style='info', description='Progress:', layout=Layout(height='25px', width='50%'),…"
      ]
     },
     "metadata": {},
     "output_type": "display_data"
    }
   ],
   "source": [
    "# create timestamp column from original timestamp column\n",
    "get_timestamp = udf(lambda x: datetime.fromtimestamp(x/1000), TimestampType())\n",
    "log_df = log_df.withColumn('start_time', get_timestamp(log_df['ts']))"
   ]
  },
  {
   "cell_type": "code",
   "execution_count": 19,
   "metadata": {
    "editable": true,
    "execution": {
     "iopub.execute_input": "2022-05-01T05:36:00.949573Z",
     "iopub.status.busy": "2022-05-01T05:36:00.949317Z",
     "iopub.status.idle": "2022-05-01T05:36:01.480444Z",
     "shell.execute_reply": "2022-05-01T05:36:01.478672Z",
     "shell.execute_reply.started": "2022-05-01T05:36:00.949545Z"
    }
   },
   "outputs": [
    {
     "data": {
      "application/vnd.jupyter.widget-view+json": {
       "model_id": "9b22ed7a4cd34f18bcaad65ef7828b22",
       "version_major": 2,
       "version_minor": 0
      },
      "text/plain": [
       "VBox()"
      ]
     },
     "metadata": {},
     "output_type": "display_data"
    },
    {
     "data": {
      "application/vnd.jupyter.widget-view+json": {
       "model_id": "",
       "version_major": 2,
       "version_minor": 0
      },
      "text/plain": [
       "FloatProgress(value=0.0, bar_style='info', description='Progress:', layout=Layout(height='25px', width='50%'),…"
      ]
     },
     "metadata": {},
     "output_type": "display_data"
    }
   ],
   "source": [
    "# extract columns to create time table\n",
    "time_table = log_df.select('start_time',\n",
    "                           hour(col('start_time')).alias('hour'),\n",
    "                           dayofmonth(col('start_time')).alias('day'),\n",
    "                           weekofyear(col('start_time')).alias('week'),\n",
    "                           month(col('start_time')).alias('month'),\n",
    "                           year(col('start_time')).alias('year'),\n",
    "                           dayofweek(col('start_time')).alias('weekday')) \\\n",
    "                    .dropDuplicates(['start_time'])"
   ]
  },
  {
   "cell_type": "code",
   "execution_count": 20,
   "metadata": {
    "editable": true,
    "execution": {
     "iopub.execute_input": "2022-05-01T05:36:05.388989Z",
     "iopub.status.busy": "2022-05-01T05:36:05.388725Z",
     "iopub.status.idle": "2022-05-01T05:39:35.972048Z",
     "shell.execute_reply": "2022-05-01T05:39:35.971145Z",
     "shell.execute_reply.started": "2022-05-01T05:36:05.388959Z"
    }
   },
   "outputs": [
    {
     "data": {
      "application/vnd.jupyter.widget-view+json": {
       "model_id": "b0553941c88642b89a21200812efade8",
       "version_major": 2,
       "version_minor": 0
      },
      "text/plain": [
       "VBox()"
      ]
     },
     "metadata": {},
     "output_type": "display_data"
    },
    {
     "data": {
      "application/vnd.jupyter.widget-view+json": {
       "model_id": "",
       "version_major": 2,
       "version_minor": 0
      },
      "text/plain": [
       "FloatProgress(value=0.0, bar_style='info', description='Progress:', layout=Layout(height='25px', width='50%'),…"
      ]
     },
     "metadata": {},
     "output_type": "display_data"
    },
    {
     "name": "stdout",
     "output_type": "stream",
     "text": [
      "----------------------------------------\n",
      "Exception happened during processing of request from ('127.0.0.1', 45048)\n",
      "Traceback (most recent call last):\n",
      "  File \"/usr/lib64/python3.6/socketserver.py\", line 320, in _handle_request_noblock\n",
      "    self.process_request(request, client_address)\n",
      "  File \"/usr/lib64/python3.6/socketserver.py\", line 351, in process_request\n",
      "    self.finish_request(request, client_address)\n",
      "  File \"/usr/lib64/python3.6/socketserver.py\", line 364, in finish_request\n",
      "    self.RequestHandlerClass(request, client_address, self)\n",
      "  File \"/usr/lib64/python3.6/socketserver.py\", line 724, in __init__\n",
      "    self.handle()\n",
      "  File \"/usr/lib/spark/python/lib/pyspark.zip/pyspark/accumulators.py\", line 266, in handle\n",
      "    poll(authenticate_and_accum_updates)\n",
      "  File \"/usr/lib/spark/python/lib/pyspark.zip/pyspark/accumulators.py\", line 241, in poll\n",
      "    if func():\n",
      "  File \"/usr/lib/spark/python/lib/pyspark.zip/pyspark/accumulators.py\", line 254, in authenticate_and_accum_updates\n",
      "    received_token = self.rfile.read(len(auth_token))\n",
      "TypeError: object of type 'NoneType' has no len()\n",
      "----------------------------------------"
     ]
    }
   ],
   "source": [
    "# write time table to parquet files partitioned by year and month\n",
    "time_table.write.parquet(os.path.join(output_data, 'time'), mode = 'overwrite', partitionBy = ['year', 'month'])"
   ]
  },
  {
   "cell_type": "code",
   "execution_count": 21,
   "metadata": {
    "editable": true,
    "execution": {
     "iopub.execute_input": "2022-05-01T05:40:00.425955Z",
     "iopub.status.busy": "2022-05-01T05:40:00.425258Z",
     "iopub.status.idle": "2022-05-01T05:40:00.915500Z",
     "shell.execute_reply": "2022-05-01T05:40:00.914568Z",
     "shell.execute_reply.started": "2022-05-01T05:40:00.425912Z"
    }
   },
   "outputs": [
    {
     "data": {
      "application/vnd.jupyter.widget-view+json": {
       "model_id": "5d79e3f8110d42a1b917bc758b7e67b3",
       "version_major": 2,
       "version_minor": 0
      },
      "text/plain": [
       "VBox()"
      ]
     },
     "metadata": {},
     "output_type": "display_data"
    },
    {
     "data": {
      "application/vnd.jupyter.widget-view+json": {
       "model_id": "",
       "version_major": 2,
       "version_minor": 0
      },
      "text/plain": [
       "FloatProgress(value=0.0, bar_style='info', description='Progress:', layout=Layout(height='25px', width='50%'),…"
      ]
     },
     "metadata": {},
     "output_type": "display_data"
    }
   ],
   "source": [
    "# join log and song dataframes to use for songplays table\n",
    "songplay_df = log_df.join(song_df, (log_df['song'] == song_df['title']) & (log_df['artist'] == song_df['artist_name'])) \\\n",
    "                    .withColumn('songplay_id', monotonically_increasing_id())"
   ]
  },
  {
   "cell_type": "code",
   "execution_count": 22,
   "metadata": {
    "editable": true,
    "execution": {
     "iopub.execute_input": "2022-05-01T05:40:02.788213Z",
     "iopub.status.busy": "2022-05-01T05:40:02.787958Z",
     "iopub.status.idle": "2022-05-01T05:40:03.142716Z",
     "shell.execute_reply": "2022-05-01T05:40:03.141955Z",
     "shell.execute_reply.started": "2022-05-01T05:40:02.788184Z"
    }
   },
   "outputs": [
    {
     "data": {
      "application/vnd.jupyter.widget-view+json": {
       "model_id": "0331dbd68ef443eb844354dbb3e4c31a",
       "version_major": 2,
       "version_minor": 0
      },
      "text/plain": [
       "VBox()"
      ]
     },
     "metadata": {},
     "output_type": "display_data"
    },
    {
     "data": {
      "application/vnd.jupyter.widget-view+json": {
       "model_id": "",
       "version_major": 2,
       "version_minor": 0
      },
      "text/plain": [
       "FloatProgress(value=0.0, bar_style='info', description='Progress:', layout=Layout(height='25px', width='50%'),…"
      ]
     },
     "metadata": {},
     "output_type": "display_data"
    }
   ],
   "source": [
    "# extract columns from joined song and log datasets to create songplays table \n",
    "songplays_table = songplay_df.select('songplay_id', 'start_time', col('userId').alias('user_id'), \\\n",
    "                                     'level', 'song_id', 'artist_id', col('sessionId').alias('session_id'), \\\n",
    "                                     'location', col('userAgent').alias('user_agent'), \\\n",
    "                                      year(col('start_time')).alias('year'), \\\n",
    "                                      month(col('start_time')).alias('month')) \\\n",
    "                            .dropDuplicates(['start_time'])"
   ]
  },
  {
   "cell_type": "code",
   "execution_count": 23,
   "metadata": {
    "editable": true,
    "execution": {
     "iopub.execute_input": "2022-05-01T05:40:15.329738Z",
     "iopub.status.busy": "2022-05-01T05:40:15.327513Z",
     "iopub.status.idle": "2022-05-01T05:40:39.467239Z",
     "shell.execute_reply": "2022-05-01T05:40:39.466471Z",
     "shell.execute_reply.started": "2022-05-01T05:40:15.329692Z"
    }
   },
   "outputs": [
    {
     "data": {
      "application/vnd.jupyter.widget-view+json": {
       "model_id": "45b73e88169a423c9df6b24535e0cd63",
       "version_major": 2,
       "version_minor": 0
      },
      "text/plain": [
       "VBox()"
      ]
     },
     "metadata": {},
     "output_type": "display_data"
    },
    {
     "data": {
      "application/vnd.jupyter.widget-view+json": {
       "model_id": "",
       "version_major": 2,
       "version_minor": 0
      },
      "text/plain": [
       "FloatProgress(value=0.0, bar_style='info', description='Progress:', layout=Layout(height='25px', width='50%'),…"
      ]
     },
     "metadata": {},
     "output_type": "display_data"
    }
   ],
   "source": [
    "# write songplays table to parquet files partitioned by year and month\n",
    "songplays_table.write.parquet(os.path.join(output_data, 'songplays'), mode = 'overwrite', partitionBy = ['year', 'month'])"
   ]
  },
  {
   "cell_type": "code",
   "execution_count": null,
   "metadata": {
    "editable": true
   },
   "outputs": [],
   "source": []
  }
 ],
 "metadata": {
  "kernelspec": {
   "display_name": "Python 3",
   "language": "python",
   "name": "python3"
  },
  "language_info": {
   "codemirror_mode": {
    "name": "ipython",
    "version": 3
   },
   "file_extension": ".py",
   "mimetype": "text/x-python",
   "name": "python",
   "nbconvert_exporter": "python",
   "pygments_lexer": "ipython3",
   "version": "3.6.3"
  }
 },
 "nbformat": 4,
 "nbformat_minor": 5
}
